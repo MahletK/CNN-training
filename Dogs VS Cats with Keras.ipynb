{
 "cells": [
  {
   "cell_type": "code",
   "execution_count": 1,
   "metadata": {},
   "outputs": [],
   "source": [
    "#ls train/cats/cat.10171.jpg"
   ]
  },
  {
   "cell_type": "code",
   "execution_count": 2,
   "metadata": {},
   "outputs": [
    {
     "name": "stderr",
     "output_type": "stream",
     "text": [
      "/home/mahlet/anaconda3/lib/python3.6/site-packages/h5py/__init__.py:36: FutureWarning: Conversion of the second argument of issubdtype from `float` to `np.floating` is deprecated. In future, it will be treated as `np.float64 == np.dtype(float).type`.\n",
      "  from ._conv import register_converters as _register_converters\n",
      "Using TensorFlow backend.\n"
     ]
    }
   ],
   "source": [
    "from keras.preprocessing.image import ImageDataGenerator, array_to_img, img_to_array, load_img\n",
    "\n",
    "datagen = ImageDataGenerator(\n",
    "        rotation_range=40,\n",
    "        width_shift_range=0.2,\n",
    "        height_shift_range=0.2,\n",
    "        shear_range=0.2,\n",
    "        zoom_range=0.2,\n",
    "        horizontal_flip=True,\n",
    "        fill_mode='nearest')\n",
    "\n",
    "# img = load_img('train/cats/cat.10171.jpg')  # this is a PIL image\n",
    "# x = img_to_array(img)  # this is a Numpy array with shape (300, 300, 3)\n",
    "# x = x.reshape((1,) + x.shape)  # this is a Numpy array with shape (1, 300, 300, 3)\n",
    "# x.shape\n",
    "\n",
    "# the .flow() command below generates batches of randomly transformed images\n",
    "# and saves the results to the `preview/` directory\n",
    "# i = 0\n",
    "# for batch in datagen.flow(x, batch_size=10,\n",
    "#                          save_to_dir='preview', save_prefix='el', save_format='jpeg'):\n",
    "#     i += 1\n",
    "#     if i > 20:\n",
    "#         break  # otherwise the generator would loop indefinitely\n",
    "        \n",
    "# #print(x.shape)"
   ]
  },
  {
   "cell_type": "code",
   "execution_count": 3,
   "metadata": {},
   "outputs": [],
   "source": [
    "# MODEL\n",
    "from keras.models import Sequential\n",
    "from keras.layers import Conv2D, MaxPooling2D\n",
    "from keras.layers import Activation, Dropout, Flatten, Dense\n",
    "\n",
    "model = Sequential()\n",
    "model.add(Conv2D(32, (3, 3), input_shape=(100, 100, 3)))\n",
    "model.add(Activation('relu'))\n",
    "model.add(MaxPooling2D(pool_size=(2, 2)))\n",
    "\n",
    "model.add(Conv2D(32, (3, 3)))\n",
    "model.add(Activation('relu'))\n",
    "model.add(MaxPooling2D(pool_size=(2, 2)))\n",
    "\n",
    "model.add(Conv2D(64, (3, 3)))\n",
    "model.add(Activation('relu'))\n",
    "model.add(MaxPooling2D(pool_size=(2, 2)))\n",
    "\n",
    "# the model so far outputs 3D feature maps (height, width, features)\n",
    "\n",
    "model.add(Flatten())  # this converts our 3D feature maps to 1D feature vectors\n",
    "model.add(Dense(128))\n",
    "model.add(Activation('relu'))\n",
    "model.add(Dropout(0.5))\n",
    "model.add(Dense(1))\n",
    "model.add(Activation('sigmoid'))\n",
    "# COMPILE\n",
    "model.compile(loss='binary_crossentropy',\n",
    "              optimizer='Adam',\n",
    "              metrics=['accuracy'])"
   ]
  },
  {
   "cell_type": "code",
   "execution_count": 4,
   "metadata": {},
   "outputs": [
    {
     "name": "stdout",
     "output_type": "stream",
     "text": [
      "Found 23000 images belonging to 2 classes.\n",
      "Found 2000 images belonging to 2 classes.\n"
     ]
    }
   ],
   "source": [
    "batch_size = 64\n",
    "\n",
    "# this is the augmentation configuration we will use for training\n",
    "train_datagen = ImageDataGenerator(rotation_range=40,\n",
    "                                   width_shift_range=0.2,\n",
    "                                   height_shift_range=0.2,\n",
    "                                   shear_range=0.2,\n",
    "                                   zoom_range=0.2,\n",
    "                                   horizontal_flip=True,\n",
    "                                   fill_mode='nearest',\n",
    "                                   rescale=1./255)\n",
    "\n",
    "# this is the augmentation configuration we will use for testing:\n",
    "# only rescaling\n",
    "test_datagen = ImageDataGenerator(rescale=1./255,\n",
    "                                 rotation_range=40,\n",
    "                                   width_shift_range=0.2,\n",
    "                                   height_shift_range=0.2,\n",
    "                                   shear_range=0.2,\n",
    "                                   zoom_range=0.2,\n",
    "                                   horizontal_flip=True,\n",
    "                                   fill_mode='nearest')\n",
    "\n",
    "# this is a generator that will read pictures found in subfolers of 'data/train', and indefinitely generate\n",
    "# batches of augmented image data\n",
    "train_generator = train_datagen.flow_from_directory(\n",
    "        'dogscats/train',  # this is the target directory\n",
    "        target_size=(100, 100),  # all images will be resized to 300x300\n",
    "        batch_size=batch_size,\n",
    "        class_mode='binary')  # since we use binary_crossentropy loss, we need binary labels\n",
    "\n",
    "# this is a similar generator, for validation data\n",
    "validation_generator = test_datagen.flow_from_directory(\n",
    "        'dogscats/valid',\n",
    "        target_size=(100, 100),\n",
    "        batch_size=batch_size,\n",
    "        class_mode='binary')"
   ]
  },
  {
   "cell_type": "code",
   "execution_count": null,
   "metadata": {},
   "outputs": [],
   "source": []
  },
  {
   "cell_type": "code",
   "execution_count": 5,
   "metadata": {},
   "outputs": [
    {
     "name": "stdout",
     "output_type": "stream",
     "text": [
      "Epoch 1/50\n",
      "64/64 [==============================] - 154s 2s/step - loss: 0.6931 - acc: 0.5225 - val_loss: 0.6880 - val_acc: 0.5430\n",
      "Epoch 2/50\n",
      "64/64 [==============================] - 102s 2s/step - loss: 0.6785 - acc: 0.5676 - val_loss: 0.6789 - val_acc: 0.5427\n",
      "Epoch 3/50\n",
      "64/64 [==============================] - 112s 2s/step - loss: 0.6583 - acc: 0.6086 - val_loss: 0.6693 - val_acc: 0.5777\n",
      "Epoch 4/50\n",
      "64/64 [==============================] - 100s 2s/step - loss: 0.6631 - acc: 0.6032 - val_loss: 0.6684 - val_acc: 0.5683\n",
      "Epoch 5/50\n",
      "64/64 [==============================] - 107s 2s/step - loss: 0.6565 - acc: 0.6101 - val_loss: 0.6405 - val_acc: 0.6278\n",
      "Epoch 6/50\n",
      "64/64 [==============================] - 96s 1s/step - loss: 0.6346 - acc: 0.6362 - val_loss: 0.6861 - val_acc: 0.5765\n",
      "Epoch 7/50\n",
      "64/64 [==============================] - 106s 2s/step - loss: 0.6399 - acc: 0.6433 - val_loss: 0.6311 - val_acc: 0.6368\n",
      "Epoch 8/50\n",
      "64/64 [==============================] - 100s 2s/step - loss: 0.6323 - acc: 0.6315 - val_loss: 0.6127 - val_acc: 0.6720\n",
      "Epoch 9/50\n",
      "64/64 [==============================] - 112s 2s/step - loss: 0.6154 - acc: 0.6665 - val_loss: 0.6000 - val_acc: 0.6807\n",
      "Epoch 10/50\n",
      "64/64 [==============================] - 106s 2s/step - loss: 0.6110 - acc: 0.6555 - val_loss: 0.5870 - val_acc: 0.6845\n",
      "Epoch 11/50\n",
      "64/64 [==============================] - 105s 2s/step - loss: 0.5935 - acc: 0.6782 - val_loss: 0.5659 - val_acc: 0.7117\n",
      "Epoch 12/50\n",
      "64/64 [==============================] - 91s 1s/step - loss: 0.6045 - acc: 0.6738 - val_loss: 0.6079 - val_acc: 0.6515\n",
      "Epoch 13/50\n",
      "64/64 [==============================] - 97s 2s/step - loss: 0.6089 - acc: 0.6633 - val_loss: 0.5871 - val_acc: 0.6755\n",
      "Epoch 14/50\n",
      "64/64 [==============================] - 112s 2s/step - loss: 0.5930 - acc: 0.6764 - val_loss: 0.5684 - val_acc: 0.7017\n",
      "Epoch 15/50\n",
      "64/64 [==============================] - 94s 1s/step - loss: 0.5775 - acc: 0.7034 - val_loss: 0.5479 - val_acc: 0.7167\n",
      "Epoch 16/50\n",
      "64/64 [==============================] - 94s 1s/step - loss: 0.5530 - acc: 0.7148 - val_loss: 0.5543 - val_acc: 0.7130\n",
      "Epoch 17/50\n",
      "64/64 [==============================] - 91s 1s/step - loss: 0.5679 - acc: 0.7092 - val_loss: 0.5999 - val_acc: 0.6710\n",
      "Epoch 18/50\n",
      "64/64 [==============================] - 87s 1s/step - loss: 0.5639 - acc: 0.7083 - val_loss: 0.5445 - val_acc: 0.7135\n",
      "Epoch 19/50\n",
      "64/64 [==============================] - 98s 2s/step - loss: 0.5400 - acc: 0.7280 - val_loss: 0.5437 - val_acc: 0.7252\n",
      "Epoch 20/50\n",
      "64/64 [==============================] - 88s 1s/step - loss: 0.5401 - acc: 0.7268 - val_loss: 0.5577 - val_acc: 0.7100\n",
      "Epoch 21/50\n",
      "64/64 [==============================] - 89s 1s/step - loss: 0.5562 - acc: 0.7141 - val_loss: 0.5249 - val_acc: 0.7372\n",
      "Epoch 22/50\n",
      "64/64 [==============================] - 93s 1s/step - loss: 0.5535 - acc: 0.7126 - val_loss: 0.5579 - val_acc: 0.6963\n",
      "Epoch 23/50\n",
      "64/64 [==============================] - 88s 1s/step - loss: 0.5521 - acc: 0.7170 - val_loss: 0.5206 - val_acc: 0.7408\n",
      "Epoch 24/50\n",
      "64/64 [==============================] - 88s 1s/step - loss: 0.5419 - acc: 0.7236 - val_loss: 0.5826 - val_acc: 0.6870\n",
      "Epoch 25/50\n",
      "64/64 [==============================] - 89s 1s/step - loss: 0.5542 - acc: 0.7212 - val_loss: 0.5251 - val_acc: 0.7448\n",
      "Epoch 26/50\n",
      "64/64 [==============================] - 100s 2s/step - loss: 0.5239 - acc: 0.7463 - val_loss: 0.5192 - val_acc: 0.7370\n",
      "Epoch 27/50\n",
      "64/64 [==============================] - 100s 2s/step - loss: 0.5319 - acc: 0.7463 - val_loss: 0.5084 - val_acc: 0.7458\n",
      "Epoch 28/50\n",
      "64/64 [==============================] - 95s 1s/step - loss: 0.5210 - acc: 0.7434 - val_loss: 0.5351 - val_acc: 0.7388\n",
      "Epoch 29/50\n",
      "64/64 [==============================] - 92s 1s/step - loss: 0.5263 - acc: 0.7341 - val_loss: 0.5426 - val_acc: 0.7188\n",
      "Epoch 30/50\n",
      "64/64 [==============================] - 86s 1s/step - loss: 0.5194 - acc: 0.7383 - val_loss: 0.5061 - val_acc: 0.7580\n",
      "Epoch 31/50\n",
      "64/64 [==============================] - 95s 1s/step - loss: 0.5385 - acc: 0.7285 - val_loss: 0.4984 - val_acc: 0.7522\n",
      "Epoch 32/50\n",
      "64/64 [==============================] - 101s 2s/step - loss: 0.5263 - acc: 0.7378 - val_loss: 0.5198 - val_acc: 0.7295\n",
      "Epoch 33/50\n",
      "64/64 [==============================] - 110s 2s/step - loss: 0.5034 - acc: 0.7546 - val_loss: 0.4978 - val_acc: 0.7615\n",
      "Epoch 34/50\n",
      "64/64 [==============================] - 96s 2s/step - loss: 0.5055 - acc: 0.7629 - val_loss: 0.5263 - val_acc: 0.7245\n",
      "Epoch 35/50\n",
      "64/64 [==============================] - 85s 1s/step - loss: 0.5230 - acc: 0.7471 - val_loss: 0.5054 - val_acc: 0.7492\n",
      "Epoch 36/50\n",
      "64/64 [==============================] - 86s 1s/step - loss: 0.4818 - acc: 0.7778 - val_loss: 0.4908 - val_acc: 0.7602\n",
      "Epoch 37/50\n",
      "64/64 [==============================] - 89s 1s/step - loss: 0.5108 - acc: 0.7510 - val_loss: 0.4885 - val_acc: 0.7735\n",
      "Epoch 38/50\n",
      "64/64 [==============================] - 91s 1s/step - loss: 0.4857 - acc: 0.7698 - val_loss: 0.5015 - val_acc: 0.7500\n",
      "Epoch 39/50\n",
      "64/64 [==============================] - 110s 2s/step - loss: 0.5083 - acc: 0.7585 - val_loss: 0.4816 - val_acc: 0.7742\n",
      "Epoch 40/50\n",
      "64/64 [==============================] - 90s 1s/step - loss: 0.5051 - acc: 0.7549 - val_loss: 0.4854 - val_acc: 0.7708\n",
      "Epoch 41/50\n",
      "64/64 [==============================] - 86s 1s/step - loss: 0.4955 - acc: 0.7646 - val_loss: 0.4918 - val_acc: 0.7600\n",
      "Epoch 42/50\n",
      "64/64 [==============================] - 84s 1s/step - loss: 0.5054 - acc: 0.7532 - val_loss: 0.4824 - val_acc: 0.7720\n",
      "Epoch 43/50\n",
      "64/64 [==============================] - 87s 1s/step - loss: 0.4815 - acc: 0.7683 - val_loss: 0.4843 - val_acc: 0.7655\n",
      "Epoch 44/50\n",
      "64/64 [==============================] - 100s 2s/step - loss: 0.4862 - acc: 0.7676 - val_loss: 0.4875 - val_acc: 0.7562\n",
      "Epoch 45/50\n",
      "64/64 [==============================] - 99s 2s/step - loss: 0.4863 - acc: 0.7666 - val_loss: 0.4640 - val_acc: 0.7755\n",
      "Epoch 46/50\n",
      "64/64 [==============================] - 85s 1s/step - loss: 0.4808 - acc: 0.7678 - val_loss: 0.4851 - val_acc: 0.7760\n",
      "Epoch 47/50\n",
      "64/64 [==============================] - 96s 2s/step - loss: 0.4797 - acc: 0.7734 - val_loss: 0.4606 - val_acc: 0.7930\n",
      "Epoch 48/50\n",
      "64/64 [==============================] - 92s 1s/step - loss: 0.4638 - acc: 0.7815 - val_loss: 0.4975 - val_acc: 0.7588\n",
      "Epoch 49/50\n",
      "64/64 [==============================] - 87s 1s/step - loss: 0.4846 - acc: 0.7720 - val_loss: 0.4434 - val_acc: 0.8070\n",
      "Epoch 50/50\n",
      "64/64 [==============================] - 90s 1s/step - loss: 0.4792 - acc: 0.7722 - val_loss: 0.4675 - val_acc: 0.7770\n"
     ]
    }
   ],
   "source": [
    "\n",
    "# TRAINING\n",
    "model.fit_generator(\n",
    "        train_generator,\n",
    "        steps_per_epoch= batch_size,\n",
    "        epochs=50,\n",
    "        validation_data=validation_generator,\n",
    "        validation_steps= batch_size)\n",
    "\n",
    "model.save('50_epochs.h5')  # always save your weights after training or during training"
   ]
  },
  {
   "cell_type": "code",
   "execution_count": 6,
   "metadata": {},
   "outputs": [],
   "source": [
    "model.load_weights('50_epochs.h5')"
   ]
  },
  {
   "cell_type": "code",
   "execution_count": 7,
   "metadata": {},
   "outputs": [],
   "source": [
    "# import matplotlib as plt\n",
    "# plt.numpy(o9s)"
   ]
  },
  {
   "cell_type": "code",
   "execution_count": 8,
   "metadata": {},
   "outputs": [],
   "source": [
    "# from PIL import Image\n",
    "# img = Image.open('images.jpeg')"
   ]
  },
  {
   "cell_type": "code",
   "execution_count": 9,
   "metadata": {},
   "outputs": [],
   "source": [
    "# from array import array\n",
    "# import cv2\n",
    "# # a = array(img).reshape(1,200,200,1)\n",
    "# img = cv2.imread('./test1/1.jpg')"
   ]
  },
  {
   "cell_type": "code",
   "execution_count": 10,
   "metadata": {},
   "outputs": [
    {
     "name": "stdout",
     "output_type": "stream",
     "text": [
      "\u001b[0m\u001b[01;35mkeras_validation/dogs/index2.jpeg\u001b[0m\r\n"
     ]
    }
   ],
   "source": [
    "ls keras_validation/dogs/index2.jpeg"
   ]
  },
  {
   "cell_type": "code",
   "execution_count": 11,
   "metadata": {},
   "outputs": [
    {
     "name": "stdout",
     "output_type": "stream",
     "text": [
      "[[1]]\n"
     ]
    }
   ],
   "source": [
    "# predicting images\n",
    "#dogs 0\n",
    "#cats 1\n",
    "from PIL import Image\n",
    "# from SimpleCV import *\n",
    "from keras.preprocessing import image\n",
    "import numpy as np\n",
    "img = image.load_img('keras_validation/dogs/index2.jpeg', target_size=(100, 100))\n",
    "x = image.img_to_array(img)\n",
    "x = np.expand_dims(x, axis=0)\n",
    "\n",
    "images = np.vstack([x])\n",
    "classes = model.predict_classes(images, batch_size=10)\n",
    "print(classes)"
   ]
  },
  {
   "cell_type": "code",
   "execution_count": null,
   "metadata": {},
   "outputs": [],
   "source": []
  },
  {
   "cell_type": "code",
   "execution_count": null,
   "metadata": {},
   "outputs": [],
   "source": []
  }
 ],
 "metadata": {
  "kernelspec": {
   "display_name": "Python [conda env:anaconda3]",
   "language": "python",
   "name": "conda-env-anaconda3-py"
  },
  "language_info": {
   "codemirror_mode": {
    "name": "ipython",
    "version": 3
   },
   "file_extension": ".py",
   "mimetype": "text/x-python",
   "name": "python",
   "nbconvert_exporter": "python",
   "pygments_lexer": "ipython3",
   "version": "3.6.4"
  }
 },
 "nbformat": 4,
 "nbformat_minor": 2
}
